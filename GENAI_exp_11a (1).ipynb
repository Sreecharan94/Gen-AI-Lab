{
  "nbformat": 4,
  "nbformat_minor": 0,
  "metadata": {
    "colab": {
      "provenance": []
    },
    "kernelspec": {
      "name": "python3",
      "display_name": "Python 3"
    },
    "language_info": {
      "name": "python"
    }
  },
  "cells": [
    {
      "cell_type": "code",
      "source": [
        "!pip install fastapi uvicorn nest_asyncio pyngrok\n",
        "!ngrok config add-authtoken 33fSFHwZWMTLsBmwzMitKb2HRqO_5vLvpC7JRQRbcejRFwnUH"
      ],
      "metadata": {
        "colab": {
          "base_uri": "https://localhost:8080/"
        },
        "id": "T5Jp36cbTylx",
        "outputId": "c8ccf0eb-6254-4cdd-a151-67d4d2d1a401"
      },
      "execution_count": null,
      "outputs": [
        {
          "output_type": "stream",
          "name": "stdout",
          "text": [
            "Requirement already satisfied: fastapi in /usr/local/lib/python3.12/dist-packages (0.118.2)\n",
            "Requirement already satisfied: uvicorn in /usr/local/lib/python3.12/dist-packages (0.37.0)\n",
            "Requirement already satisfied: nest_asyncio in /usr/local/lib/python3.12/dist-packages (1.6.0)\n",
            "Requirement already satisfied: pyngrok in /usr/local/lib/python3.12/dist-packages (7.4.0)\n",
            "Requirement already satisfied: starlette<0.49.0,>=0.40.0 in /usr/local/lib/python3.12/dist-packages (from fastapi) (0.48.0)\n",
            "Requirement already satisfied: pydantic!=1.8,!=1.8.1,!=2.0.0,!=2.0.1,!=2.1.0,<3.0.0,>=1.7.4 in /usr/local/lib/python3.12/dist-packages (from fastapi) (2.11.10)\n",
            "Requirement already satisfied: typing-extensions>=4.8.0 in /usr/local/lib/python3.12/dist-packages (from fastapi) (4.15.0)\n",
            "Requirement already satisfied: click>=7.0 in /usr/local/lib/python3.12/dist-packages (from uvicorn) (8.3.0)\n",
            "Requirement already satisfied: h11>=0.8 in /usr/local/lib/python3.12/dist-packages (from uvicorn) (0.16.0)\n",
            "Requirement already satisfied: PyYAML>=5.1 in /usr/local/lib/python3.12/dist-packages (from pyngrok) (6.0.3)\n",
            "Requirement already satisfied: annotated-types>=0.6.0 in /usr/local/lib/python3.12/dist-packages (from pydantic!=1.8,!=1.8.1,!=2.0.0,!=2.0.1,!=2.1.0,<3.0.0,>=1.7.4->fastapi) (0.7.0)\n",
            "Requirement already satisfied: pydantic-core==2.33.2 in /usr/local/lib/python3.12/dist-packages (from pydantic!=1.8,!=1.8.1,!=2.0.0,!=2.0.1,!=2.1.0,<3.0.0,>=1.7.4->fastapi) (2.33.2)\n",
            "Requirement already satisfied: typing-inspection>=0.4.0 in /usr/local/lib/python3.12/dist-packages (from pydantic!=1.8,!=1.8.1,!=2.0.0,!=2.0.1,!=2.1.0,<3.0.0,>=1.7.4->fastapi) (0.4.2)\n",
            "Requirement already satisfied: anyio<5,>=3.6.2 in /usr/local/lib/python3.12/dist-packages (from starlette<0.49.0,>=0.40.0->fastapi) (4.11.0)\n",
            "Requirement already satisfied: idna>=2.8 in /usr/local/lib/python3.12/dist-packages (from anyio<5,>=3.6.2->starlette<0.49.0,>=0.40.0->fastapi) (3.10)\n",
            "Requirement already satisfied: sniffio>=1.1 in /usr/local/lib/python3.12/dist-packages (from anyio<5,>=3.6.2->starlette<0.49.0,>=0.40.0->fastapi) (1.3.1)\n",
            "Authtoken saved to configuration file: /root/.config/ngrok/ngrok.yml\n"
          ]
        }
      ]
    },
    {
      "cell_type": "code",
      "source": [
        "import nest_asyncio\n",
        "from pyngrok import ngrok\n",
        "from fastapi import FastAPI\n",
        "from pydantic import BaseModel\n",
        "from typing import List\n",
        "import uvicorn\n",
        "import asyncio"
      ],
      "metadata": {
        "id": "9iASb7nrT54Z"
      },
      "execution_count": null,
      "outputs": []
    },
    {
      "cell_type": "code",
      "source": [
        "# Allow nested event loops (required in Colab)\n",
        "nest_asyncio.apply()"
      ],
      "metadata": {
        "id": "PSOOWFjqT_Y5"
      },
      "execution_count": null,
      "outputs": []
    },
    {
      "cell_type": "code",
      "source": [
        "# Create FastAPI app\n",
        "app = FastAPI(title=\"FastAPI Chat App (Colab-Safe)\")\n",
        "chat_history = []\n",
        "class Message(BaseModel):\n",
        "    sender: str\n",
        "    text: str\n",
        "@app.post(\"/chat\")\n",
        "def send_message(message: Message):\n",
        "    chat_history.append(message.dict())\n",
        "    return {\"status\": \"Message received\", \"message\": message}\n",
        "@app.get(\"/history\", response_model=List[Message])\n",
        "def get_history():\n",
        "    return chat_history"
      ],
      "metadata": {
        "id": "xTPEgdvSUAPK"
      },
      "execution_count": null,
      "outputs": []
    },
    {
      "cell_type": "code",
      "source": [
        "# Kill previous tunnels\n",
        "!killall ngrok\n",
        "ngrok.kill()"
      ],
      "metadata": {
        "id": "RyonucYBUEX5"
      },
      "execution_count": null,
      "outputs": []
    },
    {
      "cell_type": "code",
      "source": [
        "# Start ngrok tunnel\n",
        "port = 8000 # Changed port number\n",
        "from pyngrok import ngrok\n",
        "public_url = ngrok.connect(port).public_url\n",
        "print(f\"Public URL: {public_url}\\nDocs: {public_url}/docs\")"
      ],
      "metadata": {
        "colab": {
          "base_uri": "https://localhost:8080/"
        },
        "id": "UsXUB2ssUJKJ",
        "outputId": "7974f2a6-cffe-40a4-da44-cb4533c91c3d"
      },
      "execution_count": null,
      "outputs": [
        {
          "output_type": "stream",
          "name": "stdout",
          "text": [
            "Public URL: https://unemotional-showiest-benito.ngrok-free.dev\n",
            "Docs: https://unemotional-showiest-benito.ngrok-free.dev/docs\n"
          ]
        }
      ]
    },
    {
      "cell_type": "code",
      "metadata": {
        "colab": {
          "base_uri": "https://localhost:8080/"
        },
        "id": "21f30962",
        "outputId": "aca0780f-cb0a-4eda-a1c5-e891f6018dab"
      },
      "source": [
        "from pyngrok import ngrok\n",
        "\n",
        "try:\n",
        "    tunnels = ngrok.get_tunnels()\n",
        "    if tunnels:\n",
        "        print(\"Active ngrok tunnels:\")\n",
        "        for tunnel in tunnels:\n",
        "            print(f\"- {tunnel.public_url} ({tunnel.proto}://{tunnel.config['addr']})\")\n",
        "    else:\n",
        "        print(\"No active ngrok tunnels found.\")\n",
        "except Exception as e:\n",
        "    print(f\"An error occurred while checking ngrok tunnel status: {e}\")"
      ],
      "execution_count": null,
      "outputs": [
        {
          "output_type": "stream",
          "name": "stdout",
          "text": [
            "Active ngrok tunnels:\n",
            "- https://unemotional-showiest-benito.ngrok-free.dev (https://http://localhost:8000)\n"
          ]
        }
      ]
    },
    {
      "cell_type": "code",
      "source": [
        "# Configure uvicorn without asyncio.run()\n",
        "import uvicorn\n",
        "config = uvicorn.Config(app=app, host=\"0.0.0.0\", port=port, log_level=\"info\")\n",
        "server = uvicorn.Server(config)"
      ],
      "metadata": {
        "id": "uogxQBfkUPOJ"
      },
      "execution_count": null,
      "outputs": []
    },
    {
      "cell_type": "code",
      "source": [
        "# Run inside the existing event loop\n",
        "loop = asyncio.get_event_loop()\n",
        "loop.create_task(server.serve())"
      ],
      "metadata": {
        "colab": {
          "base_uri": "https://localhost:8080/"
        },
        "id": "uDI2NoPjURvh",
        "outputId": "af63fae9-5d48-4dc8-bc1e-87f19512eebc"
      },
      "execution_count": null,
      "outputs": [
        {
          "output_type": "execute_result",
          "data": {
            "text/plain": [
              "<Task pending name='Task-1' coro=<Server.serve() running at /usr/local/lib/python3.12/dist-packages/uvicorn/server.py:69>>"
            ]
          },
          "metadata": {},
          "execution_count": 16
        }
      ]
    }
  ]
}