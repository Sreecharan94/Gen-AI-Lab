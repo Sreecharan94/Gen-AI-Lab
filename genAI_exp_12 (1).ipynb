{
  "nbformat": 4,
  "nbformat_minor": 0,
  "metadata": {
    "colab": {
      "provenance": []
    },
    "kernelspec": {
      "name": "python3",
      "display_name": "Python 3"
    },
    "language_info": {
      "name": "python"
    }
  },
  "cells": [
    {
      "cell_type": "code",
      "execution_count": null,
      "metadata": {
        "colab": {
          "base_uri": "https://localhost:8080/"
        },
        "id": "F7EEw3YrHx-t",
        "outputId": "f287c69e-8bc1-44c4-8421-11ed960225aa"
      },
      "outputs": [
        {
          "output_type": "stream",
          "name": "stdout",
          "text": [
            "Training completed!\n",
            "Average reward over 100 test episodes: 6.45\n",
            "In state 138, the best action is 'South'. This action was chosen because it leads to a higher long-term reward.\n"
          ]
        }
      ],
      "source": [
        "# import gym # Replaced by gymnasium\n",
        "import gymnasium as gym\n",
        "import numpy as np\n",
        "import random\n",
        "\n",
        "# --- Step 1: Initialize Environment ---\n",
        "# env = gym.make(\"Taxi-v3\") # Replaced by gymnasium and new step api\n",
        "env = gym.make(\"Taxi-v3\")\n",
        "state_space = env.observation_space.n\n",
        "action_space = env.action_space.n\n",
        "\n",
        "# --- Step 2: Initialize Q-table ---\n",
        "Q = np.zeros((state_space, action_space))\n",
        "\n",
        "# --- Step 3: Hyperparameters ---\n",
        "alpha = 0.7        # Learning rate\n",
        "gamma = 0.9        # Discount factor\n",
        "epsilon = 1.0      # Exploration rate\n",
        "epsilon_decay = 0.01\n",
        "episodes = 1000\n",
        "max_steps = 100\n",
        "\n",
        "# --- Step 4: Q-Learning Training Loop ---\n",
        "for episode in range(episodes):\n",
        "    # state = env.reset()[0] # Corrected to handle tuple return from reset()\n",
        "    state, info = env.reset()\n",
        "    done = False\n",
        "\n",
        "    for _ in range(max_steps):\n",
        "        # ε-greedy action selection\n",
        "        if random.uniform(0, 1) < epsilon:\n",
        "            action = env.action_space.sample()\n",
        "        else:\n",
        "            action = np.argmax(Q[state, :])\n",
        "\n",
        "        # next_state, reward, done, truncated, info = env.step(action) # Corrected to handle tuple return from step()\n",
        "        next_state, reward, terminated, truncated, info = env.step(action)\n",
        "        done = terminated or truncated\n",
        "\n",
        "        # Q-Learning update rule\n",
        "        Q[state, action] = Q[state, action] + alpha * (reward + gamma * np.max(Q[next_state, :]) - Q[state, action])\n",
        "\n",
        "        state = next_state\n",
        "        if done:\n",
        "            break\n",
        "\n",
        "    # Decay epsilon\n",
        "    epsilon = max(0.01, epsilon - epsilon_decay)\n",
        "\n",
        "print(\"Training completed!\")\n",
        "\n",
        "# --- Step 5: Evaluate the Agent ---\n",
        "total_rewards = 0\n",
        "episodes_test = 100\n",
        "for _ in range(episodes_test):\n",
        "    # state = env.reset()[0] # Corrected to handle tuple return from reset()\n",
        "    state, info = env.reset()\n",
        "    done = False\n",
        "    episode_reward = 0\n",
        "\n",
        "    while not done:\n",
        "        action = np.argmax(Q[state, :])\n",
        "        # state, reward, done, truncated, info = env.step(action) # Corrected to handle tuple return from step()\n",
        "        state, reward, terminated, truncated, info = env.step(action)\n",
        "        done = terminated or truncated\n",
        "        episode_reward += reward\n",
        "\n",
        "    total_rewards += episode_reward\n",
        "\n",
        "print(\"Average reward over 100 test episodes:\", total_rewards / episodes_test)\n",
        "\n",
        "# --- Step 6: LLM Integration (Example Stub) ---\n",
        "def explain_policy(state):\n",
        "    \"\"\"Simulate LLM explanation for the policy.\"\"\"\n",
        "    best_action = np.argmax(Q[state])\n",
        "    action_names = [\"South\", \"North\", \"East\", \"West\", \"Pickup\", \"Dropoff\"]\n",
        "    explanation = f\"In state {state}, the best action is '{action_names[best_action]}'.\"\n",
        "    explanation += \" This action was chosen because it leads to a higher long-term reward.\"\n",
        "    return explanation\n",
        "\n",
        "# Test LLM-style explanation\n",
        "sample_state = random.randint(0, state_space - 1)\n",
        "print(explain_policy(sample_state))"
      ]
    },
    {
      "cell_type": "code",
      "source": [],
      "metadata": {
        "id": "G4AZM6Z0HzeP"
      },
      "execution_count": null,
      "outputs": []
    }
  ]
}